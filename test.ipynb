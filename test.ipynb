{
 "cells": [
  {
   "cell_type": "code",
   "execution_count": 3,
   "metadata": {
    "collapsed": true
   },
   "outputs": [],
   "source": [
    "import re\n",
    "import collections\n",
    "BlockArgs = collections.namedtuple('BlockArgs', [\n",
    "    'kernel_size', 'num_repeat', 'input_filters', 'output_filters',\n",
    "    'expand_ratio', 'id_skip', 'stride', 'se_ratio'])\n",
    "\n",
    "# Change namedtuple defaults\n",
    "# GlobalParams.__new__.__defaults__ = (None,) * len(GlobalParams._fields)\n",
    "BlockArgs.__new__.__defaults__ = (None,) * len(BlockArgs._fields)"
   ]
  },
  {
   "cell_type": "code",
   "execution_count": 4,
   "outputs": [
    {
     "data": {
      "text/plain": "__main__.BlockArgs"
     },
     "execution_count": 4,
     "metadata": {},
     "output_type": "execute_result"
    }
   ],
   "source": [
    "BlockArgs"
   ],
   "metadata": {
    "collapsed": false
   }
  },
  {
   "cell_type": "code",
   "execution_count": 77,
   "outputs": [],
   "source": [
    "def _decode_block_string(block_string):\n",
    "    \"\"\" Gets a block through a string notation of arguments. \"\"\"\n",
    "    assert isinstance(block_string, str)\n",
    "\n",
    "    ops = block_string.split('_')\n",
    "    options = {}\n",
    "    for op in ops:\n",
    "        splits = re.split(r'(\\d.*)', op)\n",
    "        if len(splits) >= 2:\n",
    "            key, value = splits[:2]\n",
    "            options[key] = value\n",
    "\n",
    "    # Check stride\n",
    "    # assert (('s' in options and len(options['s']) == 1) or\n",
    "    #         (len(options['s']) == 2 and options['s'][0] == options['s'][1]))\n",
    "    if len(options['k'])>=2:\n",
    "        kernel_size = (int(options['k'][:-1]), int(options['k'][-1]))\n",
    "    else:\n",
    "        kernel_size = (int(options['k']),int(options['k']))\n",
    "\n",
    "    if len(options['s'])>=2:\n",
    "        stride = (int(options['s'][:-1]), int(options['s'][-1]))\n",
    "    else:\n",
    "        stride = (int(options['s']),int(options['s']))\n",
    "\n",
    "    return BlockArgs(\n",
    "        kernel_size=kernel_size,\n",
    "        num_repeat=int(options['r']),\n",
    "        input_filters=int(options['i']),\n",
    "        output_filters=int(options['o']),\n",
    "        expand_ratio=int(options['e']),\n",
    "        id_skip=('noskip' not in block_string),\n",
    "        se_ratio=float(options['se']) if 'se' in options else None,\n",
    "        stride=stride)"
   ],
   "metadata": {
    "collapsed": false
   }
  },
  {
   "cell_type": "code",
   "execution_count": 83,
   "outputs": [
    {
     "data": {
      "text/plain": "BlockArgs(kernel_size=(22, 3), num_repeat=1, input_filters=32, output_filters=16, expand_ratio=1, id_skip=True, stride=(22, 4), se_ratio=0.25)"
     },
     "execution_count": 83,
     "metadata": {},
     "output_type": "execute_result"
    }
   ],
   "source": [
    "_decode_block_string('r1_k223_s224_e1_i32_o16_se0.25')"
   ],
   "metadata": {
    "collapsed": false
   }
  },
  {
   "cell_type": "code",
   "execution_count": 45,
   "outputs": [
    {
     "name": "stdout",
     "output_type": "stream",
     "text": [
      "[21]\n"
     ]
    },
    {
     "data": {
      "text/plain": "1"
     },
     "execution_count": 45,
     "metadata": {},
     "output_type": "execute_result"
    }
   ],
   "source": [
    "stride = _decode_block_string('r1_k3_s21_e1_i32_o16_se0.25').stride\n",
    "print(stride)\n",
    "len(stride)\n",
    "\n",
    "# stride = stride if len(stride) == 2 else [stride[0]] * 2"
   ],
   "metadata": {
    "collapsed": false
   }
  },
  {
   "cell_type": "code",
   "execution_count": 30,
   "outputs": [
    {
     "data": {
      "text/plain": "[11, 11]"
     },
     "execution_count": 30,
     "metadata": {},
     "output_type": "execute_result"
    }
   ],
   "source": [
    "class Conv2dStaticSamePadding(nn.Conv2d):\n",
    "    \"\"\" 2D Convolutions like TensorFlow, for a fixed image size\"\"\"\n",
    "\n",
    "    def __init__(self, in_channels, out_channels, kernel_size, image_size=None, **kwargs):\n",
    "        super().__init__(in_channels, out_channels, kernel_size, **kwargs)\n",
    "        self.stride = self.stride if len(self.stride) == 2 else [self.stride[0]] * 2\n",
    "\n",
    "        # Calculate padding based on image size and save it\n",
    "        assert image_size is not None\n",
    "        ih, iw = image_size if type(image_size) == list else [image_size, image_size]\n",
    "        kh, kw = self.weight.size()[-2:]\n",
    "        sh, sw = self.stride\n",
    "        oh, ow = math.ceil(ih / sh), math.ceil(iw / sw)\n",
    "        pad_h = max((oh - 1) * self.stride[0] + (kh - 1) * self.dilation[0] + 1 - ih, 0)\n",
    "        pad_w = max((ow - 1) * self.stride[1] + (kw - 1) * self.dilation[1] + 1 - iw, 0)\n",
    "        if pad_h > 0 or pad_w > 0:\n",
    "            self.static_padding = nn.ZeroPad2d((pad_w // 2, pad_w - pad_w // 2, pad_h // 2, pad_h - pad_h // 2))\n",
    "        else:\n",
    "            self.static_padding = Identity()\n"
   ],
   "metadata": {
    "collapsed": false
   }
  },
  {
   "cell_type": "code",
   "execution_count": null,
   "outputs": [],
   "source": [],
   "metadata": {
    "collapsed": false
   }
  }
 ],
 "metadata": {
  "kernelspec": {
   "display_name": "Python 3",
   "language": "python",
   "name": "python3"
  },
  "language_info": {
   "codemirror_mode": {
    "name": "ipython",
    "version": 2
   },
   "file_extension": ".py",
   "mimetype": "text/x-python",
   "name": "python",
   "nbconvert_exporter": "python",
   "pygments_lexer": "ipython2",
   "version": "2.7.6"
  }
 },
 "nbformat": 4,
 "nbformat_minor": 0
}
