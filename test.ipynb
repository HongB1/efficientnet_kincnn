{
 "cells": [
  {
   "cell_type": "code",
   "execution_count": 1,
   "outputs": [],
   "source": [
    "from utils import efficientnet\n",
    "blocks_args, global_params = efficientnet(width_coefficient=1.0, depth_coefficient=1.0, dropout_rate=0.7, image_size=[263, 15])"
   ],
   "metadata": {
    "collapsed": false
   }
  },
  {
   "cell_type": "code",
   "execution_count": 3,
   "outputs": [
    {
     "name": "stdout",
     "output_type": "stream",
     "text": [
      "GlobalParams(width_coefficient=1.0, depth_coefficient=1.0, image_size=[263, 15], dropout_rate=0.7, num_classes=1, batch_norm_momentum=0.99, batch_norm_epsilon=0.001, drop_connect_rate=0.2, depth_divisor=8, min_depth=None, include_top=None)\n",
      "\n",
      "MBConvblock 0:  BlockArgs(num_repeat=1, kernel_size=(5, 1), stride=(1, 1), expand_ratio=1, input_filters=8, output_filters=16, se_ratio=0.25, id_skip=True)\n",
      "\n",
      "MBConvblock 1:  BlockArgs(num_repeat=1, kernel_size=(3, 1), stride=(1, 1), expand_ratio=1, input_filters=16, output_filters=32, se_ratio=0.25, id_skip=True)\n",
      "\n",
      "MBConvblock 2:  BlockArgs(num_repeat=1, kernel_size=(3, 3), stride=(1, 1), expand_ratio=1, input_filters=32, output_filters=64, se_ratio=0.25, id_skip=True)\n",
      "\n"
     ]
    }
   ],
   "source": [
    "print(global_params)\n",
    "print()\n",
    "for idx, block_args in enumerate(blocks_args):\n",
    "    print(f'MBConvblock {idx}: ', block_args)\n",
    "    print()"
   ],
   "metadata": {
    "collapsed": false
   }
  },
  {
   "cell_type": "code",
   "execution_count": 11,
   "outputs": [],
   "source": [
    "import math\n",
    "from torch import nn\n",
    "from torch.nn import functional as F\n",
    "\n",
    "class MaxPool2dStaticSamePadding_(nn.MaxPool2d):\n",
    "    \"\"\"2D MaxPooling like TensorFlow's 'SAME' mode, with the given input image size.\n",
    "    The padding mudule is calculated in construction function, then used in forward.\n",
    "    \"\"\"\n",
    "\n",
    "    def __init__(self, kernel_size, stride, image_size=None, **kwargs):\n",
    "        super().__init__(kernel_size, stride, **kwargs)\n",
    "        # self.stride = [self.stride] * 2 if isinstance(self.stride, int) else self.stride\n",
    "        self.kernel_size = (\n",
    "            [self.kernel_size] * 2\n",
    "            if isinstance(self.kernel_size, int)\n",
    "            else self.kernel_size\n",
    "        )\n",
    "        self.dilation = (\n",
    "            [self.dilation] * 2 if isinstance(self.dilation, int) else self.dilation\n",
    "        )\n",
    "\n",
    "        # Calculate padding based on image size and save it\n",
    "        assert image_size is not None\n",
    "        ih, iw = (image_size, image_size) if isinstance(image_size, int) else image_size\n",
    "        kh, kw = self.kernel_size\n",
    "        sh, sw = (\n",
    "            (self.stride, self.stride) if isinstance(self.stride, int) else self.stride\n",
    "        )\n",
    "        oh, ow = math.ceil(ih / sh), math.ceil(iw / sw)\n",
    "        pad_h = max((oh - 1) * sh + (kh - 1) * self.dilation[0] + 1 - ih, 0)\n",
    "        pad_w = max((ow - 1) * sw + (kw - 1) * self.dilation[1] + 1 - iw, 0)\n",
    "        if pad_h > 0 or pad_w > 0:\n",
    "            self.static_padding = nn.ZeroPad2d(\n",
    "                (pad_w // 2, pad_w - pad_w // 2, pad_h // 2, pad_h - pad_h // 2)\n",
    "            )\n",
    "        else:\n",
    "            self.static_padding = nn.Identity()\n",
    "\n",
    "    def forward(self, x):\n",
    "        x = self.static_padding(x)\n",
    "        x = F.max_pool2d(\n",
    "            x,\n",
    "            self.kernel_size,\n",
    "            self.stride,\n",
    "            self.padding,\n",
    "            self.dilation,\n",
    "            self.ceil_mode,\n",
    "            self.return_indices,\n",
    "        )\n",
    "        return x"
   ],
   "metadata": {
    "collapsed": false
   }
  },
  {
   "cell_type": "code",
   "execution_count": 12,
   "outputs": [],
   "source": [
    "from utils import Conv2dStaticSamePadding, MaxPool2dStaticSamePadding\n",
    "from functools import partial\n",
    "\n",
    "bn_mom = 1 - global_params.batch_norm_momentum\n",
    "bn_eps = global_params.batch_norm_epsilon\n",
    "image_size = global_params.image_size\n",
    "Conv2d = partial(Conv2dStaticSamePadding, image_size=image_size)\n",
    "MaxPool2d = partial(MaxPool2dStaticSamePadding_, image_size=image_size)"
   ],
   "metadata": {
    "collapsed": false
   }
  },
  {
   "cell_type": "code",
   "execution_count": 13,
   "outputs": [
    {
     "data": {
      "text/plain": "[263, 15]"
     },
     "execution_count": 13,
     "metadata": {},
     "output_type": "execute_result"
    }
   ],
   "source": [
    "from torch import nn\n",
    "from utils import round_filters, calculate_output_image_size, MemoryEfficientSwish\n",
    "\n",
    "# Stem\n",
    "image_size = [263, 15]\n",
    "in_channels = 1\n",
    "out_channels = round_filters(8, global_params)\n",
    "_conv_stem = Conv2d(in_channels, out_channels, kernel_size=(5, 1), stride=(1, 1), bias=False, image_size=image_size)\n",
    "_bn0 = nn.BatchNorm2d(num_features=out_channels, momentum=bn_mom, eps=bn_eps)\n",
    "_max_pool = MaxPool2d(kernel_size=(2, 1), stride=(2, 1))\n",
    "_swish = MemoryEfficientSwish()\n",
    "image_size = calculate_output_image_size(image_size, stride=(1, 1))\n",
    "image_size"
   ],
   "metadata": {
    "collapsed": false
   }
  },
  {
   "cell_type": "code",
   "execution_count": 37,
   "outputs": [
    {
     "data": {
      "text/plain": "tensor([[[[ 1.3046,  0.6385,  0.2950,  ...,  0.5212,  1.6209,  0.9231],\n          [ 0.6213, -0.6765, -0.6158,  ...,  0.4885,  1.2506,  0.4115],\n          [ 0.3602, -0.2707, -0.1748,  ...,  1.1710,  1.2817, -0.3123],\n          ...,\n          [ 1.1332, -0.8674, -1.1314,  ...,  0.2574,  0.4384,  0.6540],\n          [-0.0487, -0.3110,  1.4396,  ..., -0.6007,  0.2222,  1.9080],\n          [ 0.0000,  0.0000,  0.4522,  ...,  0.0000,  0.0000,  1.1264]],\n\n         [[ 0.3695,  0.4974,  0.4579,  ..., -0.0723,  0.7462,  0.6954],\n          [-0.0263, -0.5752, -0.7477,  ...,  0.9208, -0.1122, -0.3897],\n          [ 0.6201, -0.0773, -0.1894,  ...,  1.1950,  0.0330,  0.3992],\n          ...,\n          [ 0.0201, -0.3949,  0.2088,  ...,  0.5793,  0.1122,  1.0368],\n          [-0.9608, -0.5949,  0.9894,  ..., -0.6246, -0.0272,  1.4105],\n          [ 0.0000,  0.0827,  0.3053,  ...,  0.1683,  0.0000,  0.0496]],\n\n         [[ 0.0831,  0.3793,  0.2023,  ...,  0.0065,  0.1381,  0.6438],\n          [ 0.8491,  0.2736, -0.0670,  ...,  0.5421,  0.9065,  0.1433],\n          [ 0.9367, -0.2260,  0.3395,  ...,  1.1105,  0.6224,  0.3333],\n          ...,\n          [ 0.8872,  0.0771,  0.1823,  ...,  0.8880, -0.1215,  0.6530],\n          [-0.9308, -0.5840,  1.0029,  ..., -0.2491,  0.1019,  1.5923],\n          [ 0.0000,  0.0000,  0.4269,  ...,  0.2774,  0.0275,  0.1783]],\n\n         ...,\n\n         [[-0.0613,  0.8188,  0.8517,  ...,  0.0297, -0.4094,  0.5500],\n          [ 1.3014,  0.9098,  0.6478,  ...,  0.2363,  1.7677,  0.5063],\n          [ 0.6666, -0.1376,  0.5213,  ...,  0.6422,  1.1113,  0.9187],\n          ...,\n          [ 1.5527,  0.4992,  1.4728,  ...,  1.3297, -0.2339,  0.7284],\n          [ 0.2493, -0.3997,  0.7249,  ..., -0.1664,  0.4521,  1.2772],\n          [ 0.0000,  0.0000,  0.8253,  ...,  0.4391,  0.0000,  0.3587]],\n\n         [[ 0.2863,  0.8269,  1.2583,  ...,  0.3338,  0.6563, -0.2057],\n          [ 0.1292, -0.2757,  1.8750,  ...,  0.2633,  0.0066, -0.3474],\n          [ 0.8860,  0.6379,  1.3337,  ..., -0.0768,  0.1848,  0.5043],\n          ...,\n          [ 0.0730,  0.7394,  1.5466,  ...,  1.1190,  0.8989,  0.5750],\n          [ 2.7263,  1.2256,  0.3673,  ..., -0.3200,  0.2901, -0.1452],\n          [ 1.2322,  0.4793,  0.1100,  ...,  0.3517,  0.0000,  0.0000]],\n\n         [[ 0.4985,  0.7762,  1.5417,  ...,  0.2757,  0.6418, -0.1509],\n          [ 0.8846,  1.0345,  1.7514,  ...,  0.2252,  1.4657,  0.3712],\n          [-0.2413,  0.3087,  0.9680,  ..., -0.2436,  0.4758,  0.7309],\n          ...,\n          [ 0.8828,  0.8143,  1.7488,  ...,  0.5359,  0.1048,  0.2989],\n          [ 3.2099,  0.5297, -0.6278,  ...,  0.9632,  0.4334, -1.0340],\n          [ 0.0000,  0.0000,  0.7101,  ...,  0.2357,  0.0000,  0.4094]]]],\n       grad_fn=<MaxPool2DWithIndicesBackward0>)"
     },
     "execution_count": 37,
     "metadata": {},
     "output_type": "execute_result"
    }
   ],
   "source": [
    "import torch\n",
    "\n",
    "x = torch.randn(1, 1, 263, 15)\n",
    "x = _conv_stem(x)\n",
    "x = _bn0(x)\n",
    "x = _max_pool(x)\n",
    "x"
   ],
   "metadata": {
    "collapsed": false
   }
  },
  {
   "cell_type": "code",
   "execution_count": 38,
   "outputs": [
    {
     "data": {
      "text/plain": "tensor([[[[ 1.0262,  0.4179,  0.1691,  ...,  0.3270,  1.3533,  0.6606],\n          [ 0.4042, -0.2280, -0.2160,  ...,  0.3028,  0.9722,  0.2475],\n          [ 0.2122, -0.1171, -0.0798,  ...,  0.8938,  1.0033, -0.1320],\n          ...,\n          [ 0.8571, -0.2566, -0.2760,  ...,  0.1451,  0.2665,  0.4303],\n          [-0.0237, -0.1315,  1.1638,  ..., -0.2128,  0.1234,  1.6614],\n          [ 0.0000,  0.0000,  0.2764,  ...,  0.0000,  0.0000,  0.8506]],\n\n         [[ 0.2185,  0.3093,  0.2805,  ..., -0.0349,  0.5062,  0.4640],\n          [-0.0130, -0.2071, -0.2403,  ...,  0.6585, -0.0530, -0.1573],\n          [ 0.4032, -0.0372, -0.0858,  ...,  0.9173,  0.0168,  0.2389],\n          ...,\n          [ 0.0101, -0.1590,  0.1153,  ...,  0.3713,  0.0592,  0.7654],\n          [-0.2659, -0.2115,  0.7212,  ..., -0.2178, -0.0134,  1.1338],\n          [ 0.0000,  0.0431,  0.1757,  ...,  0.0912,  0.0000,  0.0254]],\n\n         [[ 0.0433,  0.2252,  0.1113,  ...,  0.0033,  0.0738,  0.4221],\n          [ 0.5947,  0.1554, -0.0324,  ...,  0.3427,  0.6457,  0.0768],\n          [ 0.6730, -0.1003,  0.1983,  ...,  0.8353,  0.4051,  0.1942],\n          ...,\n          [ 0.6284,  0.0401,  0.0994,  ...,  0.6292, -0.0571,  0.4295],\n          [-0.2632, -0.2091,  0.7337,  ..., -0.1091,  0.0536,  1.3231],\n          [ 0.0000,  0.0000,  0.2583,  ...,  0.1578,  0.0139,  0.0971]],\n\n         ...,\n\n         [[-0.0297,  0.5683,  0.5970,  ...,  0.0151, -0.1634,  0.3488],\n          [ 1.0230,  0.6487,  0.4253,  ...,  0.1320,  1.5099,  0.3159],\n          [ 0.4404, -0.0641,  0.3271,  ...,  0.4208,  0.8361,  0.6567],\n          ...,\n          [ 1.2815,  0.3106,  1.1981,  ...,  1.0515, -0.1033,  0.4913],\n          [ 0.1401, -0.1604,  0.4884,  ..., -0.0763,  0.2763,  0.9987],\n          [ 0.0000,  0.0000,  0.5739,  ...,  0.2670,  0.0000,  0.2112]],\n\n         [[ 0.1635,  0.5753,  0.9799,  ...,  0.1945,  0.4321, -0.0923],\n          [ 0.0688, -0.1190,  1.6257,  ...,  0.1489,  0.0033, -0.1438],\n          [ 0.6274,  0.4174,  1.0556,  ..., -0.0369,  0.1009,  0.3144],\n          ...,\n          [ 0.0378,  0.5005,  1.2751,  ...,  0.8435,  0.6389,  0.3680],\n          [ 2.5588,  0.9474,  0.2170,  ..., -0.1346,  0.1660, -0.0673],\n          [ 0.9539,  0.2960,  0.0580,  ...,  0.2065,  0.0000,  0.0000]],\n\n         [[ 0.3101,  0.5315,  1.2699,  ...,  0.1567,  0.4205, -0.0698],\n          [ 0.6261,  0.7632,  1.4924,  ...,  0.1253,  1.1907,  0.2197],\n          [-0.1062,  0.1780,  0.7015,  ..., -0.1070,  0.2934,  0.4934],\n          ...,\n          [ 0.6245,  0.5643,  1.4897,  ...,  0.3381,  0.0551,  0.1716],\n          [ 3.0853,  0.3334, -0.2185,  ...,  0.6971,  0.2629, -0.2712],\n          [ 0.0000,  0.0000,  0.4760,  ...,  0.1317,  0.0000,  0.2460]]]],\n       grad_fn=<SwishImplementationBackward>)"
     },
     "execution_count": 38,
     "metadata": {},
     "output_type": "execute_result"
    }
   ],
   "source": [
    "x = _swish(x)\n",
    "x"
   ],
   "metadata": {
    "collapsed": false
   }
  },
  {
   "cell_type": "code",
   "execution_count": null,
   "outputs": [],
   "source": [],
   "metadata": {
    "collapsed": false
   }
  }
 ],
 "metadata": {
  "kernelspec": {
   "display_name": "Python 3",
   "language": "python",
   "name": "python3"
  },
  "language_info": {
   "codemirror_mode": {
    "name": "ipython",
    "version": 2
   },
   "file_extension": ".py",
   "mimetype": "text/x-python",
   "name": "python",
   "nbconvert_exporter": "python",
   "pygments_lexer": "ipython2",
   "version": "2.7.6"
  }
 },
 "nbformat": 4,
 "nbformat_minor": 0
}
